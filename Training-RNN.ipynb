{
  "nbformat": 4,
  "nbformat_minor": 0,
  "metadata": {
    "colab": {
      "name": "FinalFMDUsingRNN.ipynb",
      "provenance": [],
      "collapsed_sections": []
    },
    "kernelspec": {
      "name": "python3",
      "display_name": "Python 3"
    }
  },
  "cells": [
    {
      "cell_type": "code",
      "metadata": {
        "id": "4ogxKeOlnQy-",
        "colab_type": "code",
        "colab": {
          "base_uri": "https://localhost:8080/",
          "height": 35
        },
        "outputId": "e11d3e0d-eb07-49ba-8be3-2b8177cbf29f"
      },
      "source": [
        "import numpy as np \n",
        "import pandas as pd \n",
        "import os\n",
        "import keras\n",
        "import matplotlib.pyplot as plt\n",
        "import cv2\n",
        "import matplotlib.patches as patches\n",
        "import tensorflow as tf\n",
        "from keras.layers import Flatten, Dense, Conv2D, MaxPooling2D, Dropout ,RepeatVector ,Lambda\n",
        "from keras.models import Sequential\n",
        "from keras.backend import expand_dims, repeat_elements\n",
        "from keras import optimizers\n",
        "from keras.preprocessing.image import img_to_array\n",
        "from keras.preprocessing.image import load_img\n",
        "from imutils import paths\n",
        "from keras.optimizers import Adam\n",
        "from tensorflow.keras.utils import to_categorical\n",
        "from sklearn.preprocessing import LabelBinarizer\n",
        "from sklearn.model_selection import train_test_split\n",
        "from tensorflow.keras.preprocessing.image import ImageDataGenerator\n",
        "from keras.layers import Lambda\n",
        "from keras.layers import LSTM, RepeatVector,TimeDistributed,GlobalAveragePooling2D,BatchNormalization\n",
        "from sklearn.utils import shuffle\n",
        "\n",
        "# Generate auth tokens for Colab\n",
        "from google.colab import drive\n",
        "drive.mount('/content/drive/',force_remount=True)\n"
      ],
      "execution_count": null,
      "outputs": [
        {
          "output_type": "stream",
          "text": [
            "Mounted at /content/drive/\n"
          ],
          "name": "stdout"
        }
      ]
    },
    {
      "cell_type": "code",
      "metadata": {
        "id": "wMRAWSZhn4Jn",
        "colab_type": "code",
        "colab": {
          "base_uri": "https://localhost:8080/",
          "height": 92
        },
        "outputId": "1f0c2905-ef4c-499f-c658-6b959747f9fd"
      },
      "source": [
        "datagen = ImageDataGenerator( \n",
        "\trotation_range=20,\n",
        "\tzoom_range=0.15,\n",
        "\twidth_shift_range=0.2,\n",
        "\theight_shift_range=0.2,\n",
        "\tshear_range=0.15,\n",
        "\thorizontal_flip=True,\n",
        "\tfill_mode=\"nearest\") \n",
        "\n",
        "width,height=150,150\n",
        "\n",
        "print(\"[INFO] loading images...\")\n",
        "imagePaths = list(paths.list_images('/content/drive/My Drive/FMD/dataset/'))\n",
        "#imagePaths = list(paths.list_images('/content/drive/My Drive/data/minidataset/dataset/'))\n",
        "data = []\n",
        "labels = []\n",
        "\n",
        "# loop over the image paths\n",
        "for imagePath in imagePaths:\n",
        "  # extract the class label from the filename\n",
        "  label = imagePath.split(os.path.sep)[-2]\n",
        "  image = load_img(imagePath, target_size=(width, height),color_mode='rgb')\n",
        "\n",
        "  image = img_to_array(image)\n",
        "  x = image.reshape((1, ) + image.shape)\n",
        "  frameslist=[]\n",
        "  count=0\n",
        "  for batch in datagen.flow(x): \n",
        "    batch=batch.reshape(width, height, 3)\n",
        "    if count == 0:\n",
        "      frameslist.append(image)\n",
        "    else:\n",
        "      frameslist.append(batch)\n",
        "    count += 1\n",
        "    if count > 3: \n",
        "        break\n",
        "    image=np.array(frameslist)\n",
        "    \n",
        "    # update the data and labels lists, respectively\n",
        "  data.append(image)\n",
        "  labels.append(label)\n",
        " "
      ],
      "execution_count": null,
      "outputs": [
        {
          "output_type": "stream",
          "text": [
            "[INFO] loading images...\n"
          ],
          "name": "stdout"
        },
        {
          "output_type": "stream",
          "text": [
            "/usr/local/lib/python3.6/dist-packages/PIL/Image.py:932: UserWarning: Palette images with Transparency expressed in bytes should be converted to RGBA images\n",
            "  \"Palette images with Transparency expressed in bytes should be \"\n"
          ],
          "name": "stderr"
        }
      ]
    },
    {
      "cell_type": "code",
      "metadata": {
        "id": "J62tz5jIHKLL",
        "colab_type": "code",
        "colab": {
          "base_uri": "https://localhost:8080/",
          "height": 90
        },
        "outputId": "02b5f489-1158-4162-dbc6-a8757f42a48d"
      },
      "source": [
        "# convert the data and labels to NumPy arrays\n",
        "data = np.array(data, dtype=\"float32\")\n",
        "labels = np.array(labels)\n",
        "\n",
        "#normalizing data\n",
        "data=data/255.0\n",
        "# perform one-hot encoding on the labels\n",
        "lb = LabelBinarizer()\n",
        "labels = lb.fit_transform(labels)\n",
        "labels = to_categorical(labels)\n",
        "\n",
        "data, labels = shuffle(data, labels)\n",
        "print(data.shape)\n",
        "print(labels.shape)\n",
        "\n",
        "data=data.reshape(data.shape[0],data.shape[1],data.shape[2]*data.shape[3]*data.shape[4])\n",
        "print(data.shape)\n",
        "print(labels.shape)"
      ],
      "execution_count": null,
      "outputs": [
        {
          "output_type": "stream",
          "text": [
            "(3830, 3, 150, 150, 3)\n",
            "(3830, 2)\n",
            "(3830, 3, 67500)\n",
            "(3830, 2)\n"
          ],
          "name": "stdout"
        }
      ]
    },
    {
      "cell_type": "code",
      "metadata": {
        "id": "EC9Ly5Z8n6Xa",
        "colab_type": "code",
        "colab": {
          "base_uri": "https://localhost:8080/",
          "height": 126
        },
        "outputId": "62585648-a30c-4d18-ba32-b1036a543fae"
      },
      "source": [
        "\n",
        "train_ratio = 0.75\n",
        "validation_ratio = 0.15\n",
        "test_ratio = 0.10\n",
        "\n",
        "# train is now 75% of the entire data set\n",
        "# the _junk suffix means that we drop that variable completely\n",
        "x_train, x_test, y_train, y_test = train_test_split(data, labels, test_size=1 - train_ratio)\n",
        "\n",
        "# test is now 10% of the initial data set\n",
        "# validation is now 15% of the initial data set\n",
        "x_val, x_test, y_val, y_test = train_test_split(x_test, y_test, test_size=test_ratio/(test_ratio + validation_ratio)) \n",
        "\n",
        "# construct the training image generator for data augmentation\n",
        "\n",
        "print(\"trainX:\",x_train.shape)\n",
        "print(\"testX:\",x_test.shape)\n",
        "print(\"valX:\",x_val.shape)\n",
        "print(\"trainY:\",y_train.shape)\n",
        "print(\"testY:\",y_test.shape)\n",
        "print(\"valY:\",y_val.shape)\n"
      ],
      "execution_count": null,
      "outputs": [
        {
          "output_type": "stream",
          "text": [
            "trainX: (2872, 3, 67500)\n",
            "testX: (384, 3, 67500)\n",
            "valX: (574, 3, 67500)\n",
            "trainY: (2872, 2)\n",
            "testY: (384, 2)\n",
            "valY: (574, 2)\n"
          ],
          "name": "stdout"
        }
      ]
    },
    {
      "cell_type": "code",
      "metadata": {
        "id": "Cv571j6Jn-lp",
        "colab_type": "code",
        "colab": {}
      },
      "source": [
        "INIT_LR = 1e-4\n",
        "EPOCHS = 20\n",
        "BS = 32\n",
        "\n",
        "\n",
        "# bulid model\n",
        "model = Sequential()\n",
        "model.add(LSTM(128, input_shape=(data.shape[1:]), activation='relu', return_sequences=True))\n",
        "model.add(Dropout(0.2))\n",
        "model.add(LSTM(128, activation='relu'))\n",
        "model.add(Dropout(0.2))\n",
        "model.add(Dense(32, activation='relu'))\n",
        "model.add(Dropout(0.2))\n",
        "model.add(Dense(2, activation='softmax'))\n",
        "\n",
        "\n",
        "opt = Adam(lr=INIT_LR, decay=INIT_LR / EPOCHS)\n",
        "model.compile(optimizer=opt, loss='binary_crossentropy', metrics=['accuracy']) \n"
      ],
      "execution_count": null,
      "outputs": []
    },
    {
      "cell_type": "code",
      "metadata": {
        "id": "84JDbIUWoBIe",
        "colab_type": "code",
        "colab": {
          "base_uri": "https://localhost:8080/",
          "height": 781
        },
        "outputId": "cf1d5d08-03fa-438c-9cff-9308a705cb27"
      },
      "source": [
        "# train the head of the network\n",
        "print(\"[INFO] training head...\")\n",
        "H = model.fit(x_train,y_train,\n",
        "\t            validation_data=(x_val, y_val),\n",
        "\t            epochs=EPOCHS)\n",
        "\n",
        "print(\"Done !!\")"
      ],
      "execution_count": null,
      "outputs": [
        {
          "output_type": "stream",
          "text": [
            "[INFO] training head...\n",
            "Epoch 1/20\n",
            "90/90 [==============================] - 49s 549ms/step - loss: 0.9506 - accuracy: 0.5898 - val_loss: 0.4842 - val_accuracy: 0.8153\n",
            "Epoch 2/20\n",
            "90/90 [==============================] - 51s 568ms/step - loss: 0.5090 - accuracy: 0.7535 - val_loss: 0.4015 - val_accuracy: 0.8449\n",
            "Epoch 3/20\n",
            "90/90 [==============================] - 50s 556ms/step - loss: 0.4250 - accuracy: 0.8172 - val_loss: 0.3282 - val_accuracy: 0.8746\n",
            "Epoch 4/20\n",
            "90/90 [==============================] - 50s 555ms/step - loss: 0.3665 - accuracy: 0.8593 - val_loss: 0.2902 - val_accuracy: 0.9059\n",
            "Epoch 5/20\n",
            "90/90 [==============================] - 49s 542ms/step - loss: 0.3275 - accuracy: 0.8760 - val_loss: 0.2702 - val_accuracy: 0.9077\n",
            "Epoch 6/20\n",
            "90/90 [==============================] - 49s 542ms/step - loss: 0.3154 - accuracy: 0.8785 - val_loss: 0.4165 - val_accuracy: 0.8066\n",
            "Epoch 7/20\n",
            "90/90 [==============================] - 49s 542ms/step - loss: 0.3107 - accuracy: 0.8757 - val_loss: 0.2451 - val_accuracy: 0.9129\n",
            "Epoch 8/20\n",
            "90/90 [==============================] - 48s 539ms/step - loss: 0.2782 - accuracy: 0.8973 - val_loss: 0.2679 - val_accuracy: 0.9059\n",
            "Epoch 9/20\n",
            "90/90 [==============================] - 51s 571ms/step - loss: 0.2682 - accuracy: 0.9029 - val_loss: 0.2416 - val_accuracy: 0.9216\n",
            "Epoch 10/20\n",
            "90/90 [==============================] - 49s 545ms/step - loss: 0.2818 - accuracy: 0.8910 - val_loss: 0.2389 - val_accuracy: 0.9077\n",
            "Epoch 11/20\n",
            "90/90 [==============================] - 49s 543ms/step - loss: 0.2668 - accuracy: 0.8952 - val_loss: 0.2266 - val_accuracy: 0.9286\n",
            "Epoch 12/20\n",
            "90/90 [==============================] - 49s 548ms/step - loss: 0.2471 - accuracy: 0.9042 - val_loss: 0.2734 - val_accuracy: 0.9024\n",
            "Epoch 13/20\n",
            "90/90 [==============================] - 49s 542ms/step - loss: 0.2361 - accuracy: 0.9119 - val_loss: 0.2161 - val_accuracy: 0.9233\n",
            "Epoch 14/20\n",
            "90/90 [==============================] - 49s 543ms/step - loss: 0.2230 - accuracy: 0.9164 - val_loss: 0.2172 - val_accuracy: 0.9199\n",
            "Epoch 15/20\n",
            "90/90 [==============================] - 53s 592ms/step - loss: 0.2620 - accuracy: 0.8994 - val_loss: 0.2617 - val_accuracy: 0.9007\n",
            "Epoch 16/20\n",
            "90/90 [==============================] - 49s 544ms/step - loss: 0.2446 - accuracy: 0.9011 - val_loss: 0.3530 - val_accuracy: 0.8589\n",
            "Epoch 17/20\n",
            "90/90 [==============================] - 49s 549ms/step - loss: 0.3167 - accuracy: 0.8611 - val_loss: 0.3380 - val_accuracy: 0.9077\n",
            "Epoch 18/20\n",
            "90/90 [==============================] - 49s 546ms/step - loss: 0.3094 - accuracy: 0.8962 - val_loss: 0.2872 - val_accuracy: 0.9146\n",
            "Epoch 19/20\n",
            "90/90 [==============================] - 49s 543ms/step - loss: 0.2813 - accuracy: 0.9091 - val_loss: 0.2722 - val_accuracy: 0.9233\n",
            "Epoch 20/20\n",
            "90/90 [==============================] - 48s 539ms/step - loss: 0.2646 - accuracy: 0.9116 - val_loss: 0.2165 - val_accuracy: 0.9181\n",
            "Done !!\n"
          ],
          "name": "stdout"
        }
      ]
    },
    {
      "cell_type": "code",
      "metadata": {
        "id": "mVCQt3S3oDUf",
        "colab_type": "code",
        "colab": {}
      },
      "source": [
        "model.save(\"/content/drive/My Drive/FMD/Models/3frames150RNN.h5\")"
      ],
      "execution_count": null,
      "outputs": []
    },
    {
      "cell_type": "code",
      "metadata": {
        "id": "tyoekGRKKx8u",
        "colab_type": "code",
        "colab": {
          "base_uri": "https://localhost:8080/",
          "height": 918
        },
        "outputId": "3ea67d88-d994-407f-885b-c696b65b4762"
      },
      "source": [
        "#!pip install scikit-plot\n",
        "from sklearn.metrics import classification_report\n",
        "import matplotlib.pyplot as plt\n",
        "import numpy as np\n",
        "import scikitplot as skplt\n",
        "from sklearn.metrics import accuracy_score\n",
        "\n",
        "# make predictions on the testing set\n",
        "print(\"[INFO] evaluating network...\")\n",
        "predIdxs = model.predict(x_test, batch_size=BS)\n",
        "# for each image in the testing set we need to find the index of the\n",
        "# label with corresponding largest predicted probability\n",
        "predIdxs = np.argmax(predIdxs, axis=1)\n",
        "\n",
        "print(\"\\nConfusion Matrix:-\")\n",
        "skplt.metrics.plot_confusion_matrix(y_test.argmax(axis=1), predIdxs, figsize = (5, 5), title= 'My confusion matrix' )\n",
        "plt.show()\n",
        "\n",
        "print(\"\\nClassification Report:-\")\n",
        "# show a nicely formatted classification report\n",
        "print(classification_report(y_test.argmax(axis=1), predIdxs,target_names=lb.classes_))\n",
        "#for key in H.history.keys():\n",
        " #   print(key)\n",
        "\n",
        "print(\"\\nTesting Accuracy Score:-\",accuracy_score(predIdxs,y_test.argmax(axis=1))*100)\n",
        "\n",
        "print(\"\\nTraning and Validation Flow:- \")\n",
        "# plot the training loss and accuracy\n",
        "N = EPOCHS\n",
        "plt.style.use(\"ggplot\")\n",
        "plt.figure()\n",
        "plt.plot(np.arange(0, N), H.history[\"loss\"], label=\"train_loss\")\n",
        "plt.plot(np.arange(0, N), H.history[\"val_loss\"], label=\"val_loss\")\n",
        "plt.plot(np.arange(0, N), H.history[\"accuracy\"], label=\"train_acc\")\n",
        "plt.plot(np.arange(0, N), H.history[\"val_accuracy\"], label=\"val_acc\")\n",
        "plt.title(\"Training Loss and Accuracy\")\n",
        "plt.xlabel(\"Epoch #\")\n",
        "plt.ylabel(\"Loss/Accuracy\")\n",
        "plt.legend(loc=\"lower left\")\n",
        "plt.show()\n",
        "\n",
        "#plt.savefig()\n"
      ],
      "execution_count": null,
      "outputs": [
        {
          "output_type": "stream",
          "text": [
            "[INFO] evaluating network...\n",
            "\n",
            "Confusion Matrix:-\n"
          ],
          "name": "stdout"
        },
        {
          "output_type": "display_data",
          "data": {
            "image/png": "[encoded data removed]",
            "text/plain": [
              "<Figure size 360x360 with 2 Axes>"
            ]
          },
          "metadata": {
            "tags": []
          }
        },
        {
          "output_type": "stream",
          "text": [
            "\n",
            "Classification Report:-\n",
            "              precision    recall  f1-score   support\n",
            "\n",
            "   with_mask       0.96      0.91      0.93       194\n",
            "without_mask       0.91      0.96      0.94       190\n",
            "\n",
            "    accuracy                           0.93       384\n",
            "   macro avg       0.94      0.94      0.93       384\n",
            "weighted avg       0.94      0.93      0.93       384\n",
            "\n",
            "\n",
            "Testing Accuracy Score:- 93.48958333333334\n",
            "\n",
            "Traning and Validation Flow:- \n"
          ],
          "name": "stdout"
        },
        {
          "output_type": "display_data",
          "data": {
            "image/png": "[encoded data removed]",
            "text/plain": [
              "<Figure size 432x288 with 1 Axes>"
            ]
          },
          "metadata": {
            "tags": []
          }
        }
      ]
    },
    {
      "cell_type": "code",
      "metadata": {
        "id": "G4vronP92BpA",
        "colab_type": "code",
        "colab": {}
      },
      "source": [
        ""
      ],
      "execution_count": null,
      "outputs": []
    }
  ]
}