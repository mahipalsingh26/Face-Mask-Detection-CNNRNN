{
  "nbformat": 4,
  "nbformat_minor": 0,
  "metadata": {
    "colab": {
      "name": "FinalFMDUsingCNNRNN.ipynb",
      "provenance": [],
      "collapsed_sections": []
    },
    "kernelspec": {
      "name": "python3",
      "display_name": "Python 3"
    },
    "accelerator": "GPU"
  },
  "cells": [
    {
      "cell_type": "code",
      "metadata": {
        "id": "i94yejkY8RJM",
        "colab_type": "code",
        "colab": {}
      },
      "source": [
        "import numpy as np \n",
        "import pandas as pd \n",
        "import os\n",
        "import keras\n",
        "import matplotlib.pyplot as plt\n",
        "import cv2\n",
        "import matplotlib.patches as patches\n",
        "import tensorflow as tf\n",
        "from keras.layers import Flatten, Dense, Conv2D, MaxPooling2D, Dropout ,RepeatVector ,Lambda\n",
        "from keras.models import Sequential\n",
        "from keras.backend import expand_dims, repeat_elements\n",
        "from keras import optimizers\n",
        "from keras.preprocessing.image import img_to_array\n",
        "from keras.preprocessing.image import load_img\n",
        "from imutils import paths\n",
        "from keras.optimizers import Adam\n",
        "from tensorflow.keras.utils import to_categorical\n",
        "from sklearn.preprocessing import LabelBinarizer\n",
        "from sklearn.model_selection import train_test_split\n",
        "from tensorflow.keras.preprocessing.image import ImageDataGenerator\n",
        "from keras.layers import Lambda\n",
        "from keras.layers import LSTM, RepeatVector,TimeDistributed,GlobalAveragePooling2D,BatchNormalization\n",
        "from sklearn.utils import shuffle\n",
        "\n"
      ],
      "execution_count": 1,
      "outputs": []
    },
    {
      "cell_type": "code",
      "metadata": {
        "id": "uf06lEKvrLN2",
        "colab_type": "code",
        "colab": {
          "base_uri": "https://localhost:8080/",
          "height": 35
        },
        "outputId": "9bf2adad-f91c-4d9e-ecd7-4e1a092de8a5"
      },
      "source": [
        "\n",
        "# Generate auth tokens for Colab\n",
        "from google.colab import drive\n",
        "drive.mount('/content/drive/',force_remount=True)\n"
      ],
      "execution_count": 2,
      "outputs": [
        {
          "output_type": "stream",
          "text": [
            "Mounted at /content/drive/\n"
          ],
          "name": "stdout"
        }
      ]
    },
    {
      "cell_type": "code",
      "metadata": {
        "id": "cPtWS41e8azQ",
        "colab_type": "code",
        "colab": {
          "base_uri": "https://localhost:8080/",
          "height": 92
        },
        "outputId": "d9123bff-a08d-468a-bf35-3fdfdf72731f"
      },
      "source": [
        "datagen = ImageDataGenerator( \n",
        "\trotation_range=20,\n",
        "\tzoom_range=0.15,\n",
        "\twidth_shift_range=0.2,\n",
        "\theight_shift_range=0.2,\n",
        "\tshear_range=0.15,\n",
        "\thorizontal_flip=True,\n",
        "\tfill_mode=\"nearest\") \n",
        "\n",
        "width,height=150,150\n",
        "\n",
        "print(\"[INFO] loading images...\")\n",
        "imagePaths = list(paths.list_images('/content/drive/My Drive/FMD/dataset/'))\n",
        "#imagePaths = list(paths.list_images('/content/drive/My Drive/data/minidataset/dataset/'))\n",
        "data = []\n",
        "labels = []\n",
        "\n",
        "# loop over the image paths\n",
        "for imagePath in imagePaths:\n",
        "  # extract the class label from the filename\n",
        "  label = imagePath.split(os.path.sep)[-2]\n",
        "  image = load_img(imagePath, target_size=(width, height),color_mode='rgb')\n",
        "\n",
        "  image = img_to_array(image)\n",
        "  x = image.reshape((1, ) + image.shape)\n",
        "  frameslist=[]\n",
        "  count=0\n",
        "  for batch in datagen.flow(x): \n",
        "    batch=batch.reshape(width, height, 3)\n",
        "    if count == 0:\n",
        "      frameslist.append(image)\n",
        "    else:\n",
        "      frameslist.append(batch)\n",
        "    count += 1\n",
        "    if count > 3: \n",
        "        break\n",
        "    image=np.array(frameslist)\n",
        "    \n",
        "  # update the data and labels lists, respectively\n",
        "  data.append(image)\n",
        "  labels.append(label)\n",
        " "
      ],
      "execution_count": 3,
      "outputs": [
        {
          "output_type": "stream",
          "text": [
            "[INFO] loading images...\n"
          ],
          "name": "stdout"
        },
        {
          "output_type": "stream",
          "text": [
            "/usr/local/lib/python3.6/dist-packages/PIL/Image.py:932: UserWarning: Palette images with Transparency expressed in bytes should be converted to RGBA images\n",
            "  \"Palette images with Transparency expressed in bytes should be \"\n"
          ],
          "name": "stderr"
        }
      ]
    },
    {
      "cell_type": "code",
      "metadata": {
        "id": "0c7vw7lQCeWl",
        "colab_type": "code",
        "colab": {
          "base_uri": "https://localhost:8080/",
          "height": 54
        },
        "outputId": "d957fbf3-d78b-4d65-d6e1-c7d368796fa4"
      },
      "source": [
        "# convert the data and labels to NumPy arrays\n",
        "data = np.array(data, dtype=\"float32\")\n",
        "labels = np.array(labels)\n",
        "\n",
        "# perform one-hot encoding on the labels\n",
        "lb = LabelBinarizer()\n",
        "labels = lb.fit_transform(labels)\n",
        "\n",
        "labels = to_categorical(labels)\n",
        "\n",
        "data, labels = shuffle(data, labels)\n",
        "\n",
        "\n",
        "print(data.shape)\n",
        "print(labels.shape)\n"
      ],
      "execution_count": 4,
      "outputs": [
        {
          "output_type": "stream",
          "text": [
            "(3830, 3, 150, 150, 3)\n",
            "(3830, 2)\n"
          ],
          "name": "stdout"
        }
      ]
    },
    {
      "cell_type": "code",
      "metadata": {
        "id": "n86UVd_K8d62",
        "colab_type": "code",
        "colab": {
          "base_uri": "https://localhost:8080/",
          "height": 126
        },
        "outputId": "37bf8ba6-38ca-4c72-e1d1-2c2d4007f84d"
      },
      "source": [
        "\n",
        "train_ratio = 0.75\n",
        "validation_ratio = 0.15\n",
        "test_ratio = 0.10\n",
        "\n",
        "# train is now 75% of the entire data set\n",
        "# the _junk suffix means that we drop that variable completely\n",
        "x_train, x_test, y_train, y_test = train_test_split(data, labels, test_size=1 - train_ratio)\n",
        "\n",
        "# test is now 10% of the initial data set\n",
        "# validation is now 15% of the initial data set\n",
        "x_val, x_test, y_val, y_test = train_test_split(x_test, y_test, test_size=test_ratio/(test_ratio + validation_ratio)) \n",
        "\n",
        "# construct the training image generator for data augmentation\n",
        "\n",
        "print(\"trainX:\",x_train.shape)\n",
        "print(\"testX:\",x_test.shape)\n",
        "print(\"valX:\",x_val.shape)\n",
        "print(\"trainY:\",y_train.shape)\n",
        "print(\"testY:\",y_test.shape)\n",
        "print(\"valY:\",y_val.shape)\n"
      ],
      "execution_count": 5,
      "outputs": [
        {
          "output_type": "stream",
          "text": [
            "trainX: (2872, 3, 150, 150, 3)\n",
            "testX: (384, 3, 150, 150, 3)\n",
            "valX: (574, 3, 150, 150, 3)\n",
            "trainY: (2872, 2)\n",
            "testY: (384, 2)\n",
            "valY: (574, 2)\n"
          ],
          "name": "stdout"
        }
      ]
    },
    {
      "cell_type": "code",
      "metadata": {
        "id": "IeHw0d7V8vlQ",
        "colab_type": "code",
        "colab": {
          "base_uri": "https://localhost:8080/",
          "height": 619
        },
        "outputId": "d9e1ed0c-61ca-4432-d70e-691a5c4884ee"
      },
      "source": [
        "INIT_LR = 1e-4\n",
        "EPOCHS = 20\n",
        "BS = 32\n",
        "\n",
        "model=Sequential()\n",
        "model.add(TimeDistributed(Conv2D(128, (3, 3),activation='relu'),input_shape=(3, 150, 150, 3)))\n",
        "model.add(TimeDistributed(Conv2D(64, (3, 3), activation='relu')))\n",
        "model.add(TimeDistributed(MaxPooling2D(2,2)))\n",
        "model.add(TimeDistributed(BatchNormalization()))\n",
        "model.add(TimeDistributed(Flatten()))\n",
        "model.add(Dense(50, activation='relu'))\n",
        "\n",
        "model.add(LSTM(128, return_sequences=True, activation='relu'))\n",
        "model.add(LSTM(128, activation='relu'))\n",
        "model.add(Dense(50, activation='relu'))\n",
        "model.add(Dropout(0.2))\n",
        "model.add(Dense(2, activation='softmax'))\n",
        "\n",
        "\n",
        "opt = Adam(lr=INIT_LR, decay=INIT_LR / EPOCHS)\n",
        "model.compile(optimizer=opt, loss='binary_crossentropy', metrics=['accuracy']) \n",
        "\n",
        "\n",
        "model.summary()"
      ],
      "execution_count": 18,
      "outputs": [
        {
          "output_type": "stream",
          "text": [
            "WARNING:tensorflow:Layer lstm_6 will not use cuDNN kernel since it doesn't meet the cuDNN kernel criteria. It will use generic GPU kernel as fallback when running on GPU\n",
            "WARNING:tensorflow:Layer lstm_7 will not use cuDNN kernel since it doesn't meet the cuDNN kernel criteria. It will use generic GPU kernel as fallback when running on GPU\n",
            "Model: \"sequential_6\"\n",
            "_________________________________________________________________\n",
            "Layer (type)                 Output Shape              Param #   \n",
            "=================================================================\n",
            "time_distributed_27 (TimeDis (None, 3, 148, 148, 128)  3584      \n",
            "_________________________________________________________________\n",
            "time_distributed_28 (TimeDis (None, 3, 146, 146, 64)   73792     \n",
            "_________________________________________________________________\n",
            "time_distributed_29 (TimeDis (None, 3, 73, 73, 64)     0         \n",
            "_________________________________________________________________\n",
            "time_distributed_30 (TimeDis (None, 3, 73, 73, 64)     256       \n",
            "_________________________________________________________________\n",
            "time_distributed_31 (TimeDis (None, 3, 341056)         0         \n",
            "_________________________________________________________________\n",
            "dense_12 (Dense)             (None, 3, 50)             17052850  \n",
            "_________________________________________________________________\n",
            "lstm_6 (LSTM)                (None, 3, 128)            91648     \n",
            "_________________________________________________________________\n",
            "lstm_7 (LSTM)                (None, 128)               131584    \n",
            "_________________________________________________________________\n",
            "dense_13 (Dense)             (None, 50)                6450      \n",
            "_________________________________________________________________\n",
            "dropout_6 (Dropout)          (None, 50)                0         \n",
            "_________________________________________________________________\n",
            "dense_14 (Dense)             (None, 2)                 102       \n",
            "=================================================================\n",
            "Total params: 17,360,266\n",
            "Trainable params: 17,360,138\n",
            "Non-trainable params: 128\n",
            "_________________________________________________________________\n"
          ],
          "name": "stdout"
        }
      ]
    },
    {
      "cell_type": "code",
      "metadata": {
        "id": "tJDaOZuI9h-T",
        "colab_type": "code",
        "colab": {
          "base_uri": "https://localhost:8080/",
          "height": 819
        },
        "outputId": "c59a4ac9-a9b7-4ec4-adcb-9348a2eef92e"
      },
      "source": [
        "\n",
        "# train the head of the network\n",
        "print(\"[INFO] training head...\")\n",
        "H = model.fit(x_train,y_train,validation_data=(x_val, y_val),batch_size=32,epochs=EPOCHS)\n",
        "\n",
        "print(\"Done !!\")"
      ],
      "execution_count": 19,
      "outputs": [
        {
          "output_type": "stream",
          "text": [
            "[INFO] training head...\n",
            "Epoch 1/20\n",
            " 2/90 [..............................] - ETA: 13s - loss: 0.6767 - accuracy: 0.6250WARNING:tensorflow:Callbacks method `on_train_batch_end` is slow compared to the batch time (batch time: 0.0911s vs `on_train_batch_end` time: 0.2211s). Check your callbacks.\n",
            "90/90 [==============================] - 30s 335ms/step - loss: 0.3485 - accuracy: 0.8639 - val_loss: 0.2213 - val_accuracy: 0.9042\n",
            "Epoch 2/20\n",
            "90/90 [==============================] - 30s 334ms/step - loss: 0.1911 - accuracy: 0.9325 - val_loss: 0.2499 - val_accuracy: 0.9059\n",
            "Epoch 3/20\n",
            "90/90 [==============================] - 30s 338ms/step - loss: 0.1747 - accuracy: 0.9401 - val_loss: 0.2631 - val_accuracy: 0.9077\n",
            "Epoch 4/20\n",
            "90/90 [==============================] - 31s 339ms/step - loss: 0.1700 - accuracy: 0.9443 - val_loss: 0.2442 - val_accuracy: 0.9286\n",
            "Epoch 5/20\n",
            "90/90 [==============================] - 31s 340ms/step - loss: 0.1000 - accuracy: 0.9666 - val_loss: 0.5120 - val_accuracy: 0.8763\n",
            "Epoch 6/20\n",
            "90/90 [==============================] - 31s 340ms/step - loss: 0.0764 - accuracy: 0.9760 - val_loss: 0.3085 - val_accuracy: 0.8432\n",
            "Epoch 7/20\n",
            "90/90 [==============================] - 31s 341ms/step - loss: 0.0701 - accuracy: 0.9770 - val_loss: 0.3635 - val_accuracy: 0.8972\n",
            "Epoch 8/20\n",
            "90/90 [==============================] - 31s 343ms/step - loss: 0.0314 - accuracy: 0.9909 - val_loss: 0.2910 - val_accuracy: 0.9233\n",
            "Epoch 9/20\n",
            "90/90 [==============================] - 31s 344ms/step - loss: 0.0469 - accuracy: 0.9861 - val_loss: 0.2134 - val_accuracy: 0.9094\n",
            "Epoch 10/20\n",
            "90/90 [==============================] - 31s 343ms/step - loss: 0.0566 - accuracy: 0.9798 - val_loss: 0.2542 - val_accuracy: 0.9321\n",
            "Epoch 11/20\n",
            "90/90 [==============================] - 31s 343ms/step - loss: 0.0455 - accuracy: 0.9885 - val_loss: 0.3389 - val_accuracy: 0.9355\n",
            "Epoch 12/20\n",
            "90/90 [==============================] - 31s 343ms/step - loss: 0.0315 - accuracy: 0.9889 - val_loss: 0.4001 - val_accuracy: 0.9321\n",
            "Epoch 13/20\n",
            "90/90 [==============================] - 31s 343ms/step - loss: 0.0630 - accuracy: 0.9805 - val_loss: 0.3614 - val_accuracy: 0.9164\n",
            "Epoch 14/20\n",
            "90/90 [==============================] - 31s 342ms/step - loss: 0.0514 - accuracy: 0.9854 - val_loss: 0.2800 - val_accuracy: 0.9181\n",
            "Epoch 15/20\n",
            "90/90 [==============================] - 31s 342ms/step - loss: 0.0201 - accuracy: 0.9934 - val_loss: 0.3731 - val_accuracy: 0.9251\n",
            "Epoch 16/20\n",
            "90/90 [==============================] - 31s 342ms/step - loss: 0.0030 - accuracy: 0.9997 - val_loss: 0.2200 - val_accuracy: 0.9599\n",
            "Epoch 17/20\n",
            "90/90 [==============================] - 31s 342ms/step - loss: 0.0031 - accuracy: 0.9997 - val_loss: 0.2181 - val_accuracy: 0.9530\n",
            "Epoch 18/20\n",
            "90/90 [==============================] - 31s 343ms/step - loss: 0.0014 - accuracy: 1.0000 - val_loss: 0.2099 - val_accuracy: 0.9617\n",
            "Epoch 19/20\n",
            "90/90 [==============================] - 31s 343ms/step - loss: 0.0011 - accuracy: 1.0000 - val_loss: 0.2067 - val_accuracy: 0.9617\n",
            "Epoch 20/20\n",
            "90/90 [==============================] - 31s 342ms/step - loss: 4.4060e-04 - accuracy: 1.0000 - val_loss: 0.2096 - val_accuracy: 0.9652\n",
            "Done !!\n"
          ],
          "name": "stdout"
        }
      ]
    },
    {
      "cell_type": "code",
      "metadata": {
        "id": "GySBOIcmMYt9",
        "colab_type": "code",
        "colab": {}
      },
      "source": [
        "model.save(\"/content/drive/My Drive/FMD/Models/3frame150CNNRNN.h5\")"
      ],
      "execution_count": 21,
      "outputs": []
    },
    {
      "cell_type": "code",
      "metadata": {
        "id": "WYZzATDfGr3z",
        "colab_type": "code",
        "colab": {
          "base_uri": "https://localhost:8080/",
          "height": 918
        },
        "outputId": "9a269215-1197-4d2e-a51c-d65d7b12cc1a"
      },
      "source": [
        "#!pip install scikit-plot\n",
        "from sklearn.metrics import classification_report\n",
        "import matplotlib.pyplot as plt\n",
        "import numpy as np\n",
        "import scikitplot as skplt\n",
        "from sklearn.metrics import accuracy_score\n",
        "\n",
        "# make predictions on the testing set\n",
        "print(\"[INFO] evaluating network...\")\n",
        "predIdxs = model.predict(x_test, batch_size=BS)\n",
        "# for each image in the testing set we need to find the index of the\n",
        "# label with corresponding largest predicted probability\n",
        "predIdxs = np.argmax(predIdxs, axis=1)\n",
        "\n",
        "print(\"\\nConfusion Matrix:-\")\n",
        "skplt.metrics.plot_confusion_matrix(y_test.argmax(axis=1), predIdxs, figsize = (5, 5), title= 'My confusion matrix' )\n",
        "plt.show()\n",
        "\n",
        "print(\"\\nClassification Report:-\")\n",
        "# show a nicely formatted classification report\n",
        "print(classification_report(y_test.argmax(axis=1), predIdxs,target_names=lb.classes_))\n",
        "#for key in H.history.keys():\n",
        " #   print(key)\n",
        "\n",
        "print(\"\\nTesting Accuracy Score:-\",accuracy_score(predIdxs,y_test.argmax(axis=1))*100)\n",
        "\n",
        "print(\"\\nTraning and Validation Flow:- \")\n",
        "# plot the training loss and accuracy\n",
        "N = EPOCHS\n",
        "plt.style.use(\"ggplot\")\n",
        "plt.figure()\n",
        "plt.plot(np.arange(0, N), H.history[\"loss\"], label=\"train_loss\")\n",
        "plt.plot(np.arange(0, N), H.history[\"val_loss\"], label=\"val_loss\")\n",
        "plt.plot(np.arange(0, N), H.history[\"accuracy\"], label=\"train_acc\")\n",
        "plt.plot(np.arange(0, N), H.history[\"val_accuracy\"], label=\"val_acc\")\n",
        "plt.title(\"Training Loss and Accuracy\")\n",
        "plt.xlabel(\"Epoch #\")\n",
        "plt.ylabel(\"Loss/Accuracy\")\n",
        "plt.legend(loc=\"lower left\",)\n",
        "plt.show()\n",
        "\n",
        "#plt.savefig()"
      ],
      "execution_count": 22,
      "outputs": [
        {
          "output_type": "stream",
          "text": [
            "[INFO] evaluating network...\n",
            "\n",
            "Confusion Matrix:-\n"
          ],
          "name": "stdout"
        },
        {
          "output_type": "display_data",
          "data": {
            "image/png": "[encoded data removed]",
            "text/plain": [
              "<Figure size 360x360 with 2 Axes>"
            ]
          },
          "metadata": {
            "tags": []
          }
        },
        {
          "output_type": "stream",
          "text": [
            "\n",
            "Classification Report:-\n",
            "              precision    recall  f1-score   support\n",
            "\n",
            "   with_mask       0.96      0.97      0.97       192\n",
            "without_mask       0.97      0.96      0.97       192\n",
            "\n",
            "    accuracy                           0.97       384\n",
            "   macro avg       0.97      0.97      0.97       384\n",
            "weighted avg       0.97      0.97      0.97       384\n",
            "\n",
            "\n",
            "Testing Accuracy Score:- 96.61458333333334\n",
            "\n",
            "Traning and Validation Flow:- \n"
          ],
          "name": "stdout"
        },
        {
          "output_type": "display_data",
          "data": {
            "image/png": "[encoded data removed]",
            "text/plain": [
              "<Figure size 432x288 with 1 Axes>"
            ]
          },
          "metadata": {
            "tags": []
          }
        }
      ]
    }
  ]
}